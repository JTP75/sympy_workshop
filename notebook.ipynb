{
 "cells": [
  {
   "attachments": {},
   "cell_type": "markdown",
   "metadata": {},
   "source": [
    "# Sympy Notebook"
   ]
  },
  {
   "cell_type": "code",
   "execution_count": 26,
   "metadata": {},
   "outputs": [],
   "source": [
    "import sympy\n",
    "import numpy as np\n",
    "import matplotlib.pyplot as plt\n",
    "plt.rcParams[\"axes.grid\"]=True"
   ]
  },
  {
   "attachments": {},
   "cell_type": "markdown",
   "metadata": {},
   "source": [
    "## Fourier Transform"
   ]
  },
  {
   "attachments": {},
   "cell_type": "markdown",
   "metadata": {},
   "source": [
    "### Analysis Equation\n",
    "$${X(\\omega)=\\int^\\infty_{-\\infty} x(t) e^{-i \\omega t} dt}$$\n",
    "\n",
    "### Synthesis Equation\n",
    "$${x(t)=\\frac{1}{2\\pi}\\int^\\infty_{-\\infty} X(\\omega) e^{i \\omega t} d\\omega}$$"
   ]
  },
  {
   "cell_type": "code",
   "execution_count": 40,
   "metadata": {},
   "outputs": [],
   "source": [
    "import sympy\n",
    "\n",
    "t = sympy.Symbol(\"t\",real=True)\n",
    "omega = sympy.Symbol(\"omega\",real=True)\n",
    "f = sympy.sin(t)\n",
    "\n",
    "F = sympy.fourier_transform(f*sympy.exp(-1j*omega*t),t,omega)\n",
    "\n",
    "F_numeric = sympy.lambdify(t,F)"
   ]
  }
 ],
 "metadata": {
  "kernelspec": {
   "display_name": "sympy_workshop",
   "language": "python",
   "name": "python3"
  },
  "language_info": {
   "codemirror_mode": {
    "name": "ipython",
    "version": 3
   },
   "file_extension": ".py",
   "mimetype": "text/x-python",
   "name": "python",
   "nbconvert_exporter": "python",
   "pygments_lexer": "ipython3",
   "version": "3.10.9"
  },
  "orig_nbformat": 4
 },
 "nbformat": 4,
 "nbformat_minor": 2
}
