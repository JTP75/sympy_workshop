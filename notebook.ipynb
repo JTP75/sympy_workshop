{
 "cells": [
  {
   "attachments": {},
   "cell_type": "markdown",
   "metadata": {},
   "source": [
    "# Sympy Notebook"
   ]
  },
  {
   "attachments": {},
   "cell_type": "markdown",
   "metadata": {},
   "source": [
    "## Fourier Transform"
   ]
  },
  {
   "attachments": {},
   "cell_type": "markdown",
   "metadata": {},
   "source": [
    "### Analysis Equation\n",
    "$${X(\\omega)=\\int^\\infty_{-\\infty} x(t) e^{-i \\omega t} dt}$$\n",
    "\n",
    "### Synthesis Equation\n",
    "$${x(t)=\\frac{1}{2\\pi}\\int^\\infty_{-\\infty} X(\\omega) e^{i \\omega t} d\\omega}$$"
   ]
  },
  {
   "cell_type": "code",
   "execution_count": 9,
   "metadata": {},
   "outputs": [
    {
     "data": {
      "text/latex": [
       "$\\displaystyle 0$"
      ],
      "text/plain": [
       "0"
      ]
     },
     "execution_count": 9,
     "metadata": {},
     "output_type": "execute_result"
    }
   ],
   "source": [
    "import sympy\n",
    "from sympy.abc import t,omega\n",
    "\n",
    "f = sympy.sin(t)\n",
    "\n",
    "F = sympy.fourier_transform(f,t,omega)\n",
    "F\n"
   ]
  }
 ],
 "metadata": {
  "kernelspec": {
   "display_name": "sympy_workshop",
   "language": "python",
   "name": "python3"
  },
  "language_info": {
   "codemirror_mode": {
    "name": "ipython",
    "version": 3
   },
   "file_extension": ".py",
   "mimetype": "text/x-python",
   "name": "python",
   "nbconvert_exporter": "python",
   "pygments_lexer": "ipython3",
   "version": "3.10.9"
  },
  "orig_nbformat": 4
 },
 "nbformat": 4,
 "nbformat_minor": 2
}
